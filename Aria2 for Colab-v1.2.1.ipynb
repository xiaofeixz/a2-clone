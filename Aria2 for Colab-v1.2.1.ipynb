{
  nbformat 4,
  nbformat_minor 0,
  metadata {
    colab {
      name Untitled0.ipynb,
      provenance [],
      collapsed_sections []
    },
    kernelspec {
      name python3,
      display_name Python 3
    }
  },
  cells [
    {
      cell_type code,
      metadata {
        cellView form,
        id A5bP_SXnIfqz
      },
      source [
        #@markdown h3?? Click Here to Starth3n,
        #@markdown centerh3Aria2 for Colabbr n,
        n,
        #rclone��װn,
        !curl  httpsrclone.orginstall.sh 2devnull  sudo bash & devnulln,
         n,
        #rclone����n,
        Rclone_config = httpsyourworld.comrclone.conf  # @param {typestring}n,
        !wget echo $Rclone_config -P root.configrclone & devnulln,
        n,
        #Aria2һ���������ýű�һ����װn,
        !apt install wget curl ca-certificates & devnulln,
        !wget -N git.ioaria2.sh & devnull && chmod +x aria2.sh & devnulln,
        !echo 1.aria2.sh & devnulln,
        !echo 12.aria2.sh & devnulln,
        n,
        #����Github��������n,
        import osn,
        import urllib.requestn,
        from IPython.display import HTML, clear_outputn,
         n,
        #####################################n,
        USE_FREE_TOKEN = False  # @param {typeboolean}n,
        REGION = USn,
        TOKEN = your ngrok token or use free token  # @param {typestring}n,
         n,
        HOME = os.path.expanduser(~)n,
         n,
        if not os.path.exists(f{HOME}.ipythonocr.py)n,
            hCode = httpsraw.githubusercontent.comhmglife n,
                        aria2-colabmasterocr.pyn,
            urllib.request.urlretrieve(hCode, f{HOME}.ipythonocr.py)n,
         n,
         n,
        from ocr import loadingAn, PortForward_wrappern,
         n,
        loadingAn()n,
         n,
        # START_SERVERn,
        # Ngrok region 'us','eu','ap','au','sa','jp','in'n,
        clear_output()n,
        PORT_FORWARD = ngrok n,
        Server = PortForward_wrapper(n,
            PORT_FORWARD, TOKEN, USE_FREE_TOKEN, [['Aria2_rpc', 6800, 'http']], REGION.lower(), n,
            [f{HOME}.ngrok2aria2.yml, 5042]n,
        )n,
         n,
        data = Server.start('Aria2_rpc', displayB=False)n,
        Host = data['url'][7]  n,
        port = 80n,
        clear_output()n,
         n,
        rpc0 = !grep ^rpc-secret= root.aria2caria2.conf  awk -F = '{print $NF}'n,
        rpc = ().join(rpc0)n,
        rpc64 = !echo -n $rpc  base64n,
        rpc_secret = ().join(rpc64)n,
         n,
        showUrL = httpariang.js.org#!settingsrpcsetws + Host + 80jsonrpc + rpc_secretn,
         n,
        showTxT = Success! Click Here to Start AriaNgn,
         n,
        display(HTML('''style@import url('httpsfonts.googleapis.comcssfamily=Source+Code+Pro200,900');  root {   --text-color '''+'hsla(10, 50%, 85%, 1)'+''';   --shadow-color '''+'hsla(10, 40%, 52%, .4)'+''';   --btn-color '''+'hsla(10, 86%, 56%, 1)'+''';   --bg-color #141218; }   {   box-sizing border-box; } button { positionrelative; padding 10px 20px;     border none;   background none;   cursor pointer;      font-family Source Code Pro;   font-weight 900;   font-size 100%;     color var(--text-color);      background-color var(--btn-color);   box-shadow var(--shadow-color) 2px 2px 22px;   border-radius 4px;    z-index 0;     overflow hidden;    }  buttonfocus {   outline-color transparent;   box-shadow var(--btn-color) 2px 2px 22px; }  .rightafter, buttonafter {   content var(--content);   display block;   position absolute;   white-space nowrap;   padding 40px 40px;   pointer-eventsnone; }  buttonafter{   font-weight 200;   top -30px;   left -20px; }   .right, .left {   position absolute;   width 100%;   height 100%;   top 0; } .right {   left 66%; } .left {   right 66%; } .rightafter {   top -30px;   left calc(-66% - 20px);      background-color var(--bg-color);   colortransparent;   transition transform .4s ease-out;   transform translate(0, -90%) rotate(0deg) }  buttonhover .rightafter {   transform translate(0, -47%) rotate(0deg) }  button .righthoverafter {   transform translate(0, -50%) rotate(-7deg) }  button .lefthover ~ .rightafter {   transform translate(0, -50%) rotate(7deg) }   bubbles  buttonbefore {   content '';   pointer-events none;   opacity .6;   background     radial-gradient(circle at 20% 35%,  transparent 0,  transparent 2px, var(--text-color) 3px, var(--text-color) 4px, transparent 4px),     radial-gradient(circle at 75% 44%, transparent 0,  transparent 2px, var(--text-color) 3px, var(--text-color) 4px, transparent 4px),     radial-gradient(circle at 46% 52%, transparent 0, transparent 4px, var(--text-color) 5px, var(--text-color) 6px, transparent 6px);    width 100%;   height 300%;   top 0;   left 0;   position absolute;   animation bubbles 5s linear infinite both; }  @keyframes bubbles {   from {     transform translate();   }   to {     transform translate(0, -66.666%);   } }    Resourcesstylecentera href='''+showUrL+''' target=_blankdiv style=width 570px;   height 80px; padding-top15pxbutton style='--content '''+showTxT+''';'   div class=leftdiv'''+showTxT+'''div class=rightdiv divbuttonacenter'''))n,
         n,
        display(HTML(style@import url('httpsfonts.googleapis.comcssfamily=Source+Code+Pro200,900');  root {   --text-color hsla(210, 50%, 85%, 1);   --shadow-color hsla(210, 40%, 52%, .4);   --btn-color hsl(210, 80%, 42%);   --bg-color #141218; }   {   box-sizing border-box; } button { positionrelative; padding 10px 20px;     border none;   background none;      font-family Source Code Pro;   font-weight 900;font-size 100%;     color var(--text-color);      background-color var(--btn-color);   box-shadow var(--shadow-color) 2px 2px 22px;   border-radius 4px;    z-index 0;overflow hidden; -webkit-user-select text;-moz-user-select text;-ms-user-select text;user-select text;}  buttonfocus {   outline-color transparent;   box-shadow var(--btn-color) 2px 2px 22px; }  .rightafter, buttonafter {   content var(--content);   display block;   position absolute;   white-space nowrap;   padding 40px 40px;   pointer-eventsnone; }  buttonafter{   font-weight 200;   top -30px;   left -20px; }   .right, .left {   position absolute;   width 100%;   height 100%;   top 0; } .right {   left 66%; } .left {   right 66%; } .rightafter {   top -30px;   left calc(-66% - 20px);      background-color var(--bg-color);   colortransparent;   transition transform .4s ease-out;   transform translate(0, -90%) rotate(0deg) }  buttonhover .rightafter {   transform translate(0, -47%) rotate(0deg) }  button .righthoverafter {   transform translate(0, -50%) rotate(-7deg) }  button .lefthover ~ .rightafter {   transform translate(0, -50%) rotate(7deg) }   bubbles  buttonbefore {   content '';   pointer-events none;   opacity .6;   background     radial-gradient(circle at 20% 35%,  transparent 0,  transparent 2px, var(--text-color) 3px, var(--text-color) 4px, transparent 4px),     radial-gradient(circle at 75% 44%, transparent 0,  transparent 2px, var(--text-color) 3px, var(--text-color) 4px, transparent 4px),     radial-gradient(circle at 46% 52%, transparent 0, transparent 4px, var(--text-color) 5px, var(--text-color) 6px, transparent 6px);    width 100%;   height 300%;   top 0;   left 0;   position absolute;   animation bubbles 5s linear infinite both; }  @keyframes bubbles {   from {     transform translate();   }   to {     transform translate(0, -66.666%);   } }.zui-table {    border solid 1px #DDEEEE;    border-collapse collapse;    border-spacing 0;    font normal 13px;}.zui-table thead th {    background-color #DDEFEF;    border solid 1px #DDEEEE;    color #0000009e;    padding 10px;    text-align left;}.zui-table tbody td {border solid 1px #effff97a;color #ffffffd1;    padding 10px;}stylecenterbuttontable class=zui-table blueBGpAria2 rpc configpthead        tr            thProtocolth            thHostth            thPortth        tr    thead    tbody        tr            tdWebSockettdtd+Host+tdtd+port+tdtrtbodytablea target=_blank style=text-decoration none;color hsla(210, 50%, 85%, 1);font-size 10px; href=httpsraw.githubusercontent.combiplobsdOneClickRunmasterimgaria2RpcConfigSetup.gifNB. How to setup this's config. [Click ME]abuttoncenter))
      ],
      execution_count null,
      outputs []
    },
    {
      cell_type code,
      metadata {
        cellView form,
        id xsznXiLUKDDQ
      },
      source [
        #@markdown h3?? Click Here to Starth3n,
        #@markdown centerh3Rclone Uploadbr n,
        n,
        Source = rootdownloads  # @param {typestring}n,
        DriveID = td1  # @param {typestring}n,
        Location = u4E34u65F6u6587u4EF6u79BBu7EBFu4E0Bu8F7DColab  # @param {typestring}n,
        !rclone copy $Source $DriveID$Locationn,
        print(Success!)
      ],
      execution_count null,
      outputs []
    }
  ]
}